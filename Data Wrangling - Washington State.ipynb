{
 "cells": [
  {
   "cell_type": "markdown",
   "metadata": {},
   "source": [
    "# Washington State Open Street Map Data Wrangling"
   ]
  },
  {
   "cell_type": "code",
   "execution_count": 1,
   "metadata": {},
   "outputs": [],
   "source": [
    "import xml.etree.cElementTree as ET\n",
    "import pprint"
   ]
  },
  {
   "cell_type": "code",
   "execution_count": 2,
   "metadata": {},
   "outputs": [
    {
     "name": "stdout",
     "output_type": "stream",
     "text": [
      "{'bounds': 1,\n",
      " 'member': 12257,\n",
      " 'meta': 1,\n",
      " 'nd': 388630,\n",
      " 'node': 339790,\n",
      " 'note': 1,\n",
      " 'osm': 1,\n",
      " 'relation': 346,\n",
      " 'tag': 227087,\n",
      " 'way': 47094}\n"
     ]
    }
   ],
   "source": [
    "filename = r\"C:\\Users\\sdl395.NW1\\Desktop\\Udacity\\DataAnalytics\\Project2\\wa_state_map.osm\"\n",
    "def count_tags(filename):\n",
    "\n",
    "    tags = {}\n",
    "    for ev,elem in ET.iterparse(filename):\n",
    "        tag = elem.tag\n",
    "        if tag not in tags.keys():\n",
    "            tags[tag] = 1\n",
    "        else:\n",
    "            tags[tag]+=1\n",
    "    return tags\n",
    "\n",
    "def test():\n",
    "\n",
    "    tags = count_tags(filename)\n",
    "    pprint.pprint(tags)\n",
    "    \n",
    "if __name__ == \"__main__\":\n",
    "    test()"
   ]
  },
  {
   "cell_type": "markdown",
   "metadata": {},
   "source": [
    "{'bounds': 1,\n",
    " 'member': 12257,\n",
    " 'meta': 1,\n",
    " 'nd': 388630,\n",
    " 'node': 339790,\n",
    " 'note': 1,\n",
    " 'osm': 1,\n",
    " 'relation': 346,\n",
    " 'tag': 227087,\n",
    " 'way': 47094}"
   ]
  },
  {
   "cell_type": "code",
   "execution_count": 3,
   "metadata": {},
   "outputs": [
    {
     "name": "stdout",
     "output_type": "stream",
     "text": [
      "869\n"
     ]
    }
   ],
   "source": [
    "def get_users(filename):\n",
    "    users = set()\n",
    "    for _, element in ET.iterparse(filename):\n",
    "        for att in element.attrib:\n",
    "            if att == 'uid':\n",
    "                if element.attrib['uid'] not in users:\n",
    "                    users.add(element.attrib['uid'])\n",
    "\n",
    "    return users\n",
    "\n",
    "print(len(get_users(filename)))"
   ]
  },
  {
   "cell_type": "markdown",
   "metadata": {},
   "source": [
    "869"
   ]
  },
  {
   "cell_type": "code",
   "execution_count": null,
   "metadata": {},
   "outputs": [],
   "source": []
  }
 ],
 "metadata": {
  "kernelspec": {
   "display_name": "Python [conda env:root] *",
   "language": "python",
   "name": "conda-root-py"
  },
  "language_info": {
   "codemirror_mode": {
    "name": "ipython",
    "version": 3
   },
   "file_extension": ".py",
   "mimetype": "text/x-python",
   "name": "python",
   "nbconvert_exporter": "python",
   "pygments_lexer": "ipython3",
   "version": "3.8.5"
  }
 },
 "nbformat": 4,
 "nbformat_minor": 4
}
